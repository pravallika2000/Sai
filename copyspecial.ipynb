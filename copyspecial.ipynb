{
  "nbformat": 4,
  "nbformat_minor": 0,
  "metadata": {
    "colab": {
      "name": "copyspecial.ipynb",
      "provenance": [],
      "collapsed_sections": [],
      "authorship_tag": "ABX9TyPxcodDLa93D8cM8dOQhoWm",
      "include_colab_link": true
    },
    "kernelspec": {
      "name": "python3",
      "display_name": "Python 3"
    },
    "language_info": {
      "name": "python"
    },
    "accelerator": "GPU"
  },
  "cells": [
    {
      "cell_type": "markdown",
      "metadata": {
        "id": "view-in-github",
        "colab_type": "text"
      },
      "source": [
        "<a href=\"https://colab.research.google.com/github/pravallika2000/Sai/blob/master/copyspecial.ipynb\" target=\"_parent\"><img src=\"https://colab.research.google.com/assets/colab-badge.svg\" alt=\"Open In Colab\"/></a>"
      ]
    },
    {
      "cell_type": "code",
      "metadata": {
        "colab": {
          "base_uri": "https://localhost:8080/",
          "height": 35
        },
        "id": "f2wxW0RSvGnZ",
        "outputId": "81b50aaa-8006-4736-c49d-dda3c288b960"
      },
      "source": [
        "pwd\n"
      ],
      "execution_count": 9,
      "outputs": [
        {
          "output_type": "execute_result",
          "data": {
            "application/vnd.google.colaboratory.intrinsic+json": {
              "type": "string"
            },
            "text/plain": [
              "'/content'"
            ]
          },
          "metadata": {},
          "execution_count": 9
        }
      ]
    },
    {
      "cell_type": "code",
      "metadata": {
        "colab": {
          "base_uri": "https://localhost:8080/"
        },
        "id": "2TX3_mOQvHPp",
        "outputId": "62f3fc44-1d4e-4e97-b45c-0b990eab6b95"
      },
      "source": [
        "cd copyspecial\n"
      ],
      "execution_count": 10,
      "outputs": [
        {
          "output_type": "stream",
          "name": "stdout",
          "text": [
            "/content/copyspecial\n"
          ]
        }
      ]
    },
    {
      "cell_type": "code",
      "metadata": {
        "id": "kMtPjiR5wbku"
      },
      "source": [
        "import os\n"
      ],
      "execution_count": 12,
      "outputs": []
    },
    {
      "cell_type": "code",
      "metadata": {
        "colab": {
          "base_uri": "https://localhost:8080/"
        },
        "id": "wAML_ciC2cvQ",
        "outputId": "c53f7044-1263-4fc7-9782-12ff09150dc7"
      },
      "source": [
        "os.listdir()"
      ],
      "execution_count": 13,
      "outputs": [
        {
          "output_type": "execute_result",
          "data": {
            "text/plain": [
              "['xyz__hello__.txt', 'copyspecial.py', 'zz__something__.jpg']"
            ]
          },
          "metadata": {},
          "execution_count": 13
        }
      ]
    },
    {
      "cell_type": "code",
      "metadata": {
        "colab": {
          "base_uri": "https://localhost:8080/",
          "height": 35
        },
        "id": "VrX-qNiF8-3m",
        "outputId": "b4a43957-9374-4726-94f8-6d150868ff3f"
      },
      "source": [
        "os.path.abspath(\"copyspecial.py\")"
      ],
      "execution_count": 14,
      "outputs": [
        {
          "output_type": "execute_result",
          "data": {
            "application/vnd.google.colaboratory.intrinsic+json": {
              "type": "string"
            },
            "text/plain": [
              "'/content/copyspecial/copyspecial.py'"
            ]
          },
          "metadata": {},
          "execution_count": 14
        }
      ]
    },
    {
      "cell_type": "code",
      "metadata": {
        "colab": {
          "base_uri": "https://localhost:8080/"
        },
        "id": "NvwnQtCw8-97",
        "outputId": "c2b0839a-8527-435c-d9d8-82029ef2d48b"
      },
      "source": [
        "import os\n",
        "filenames = os.listdir()\n",
        "for filename in filenames:\n",
        "  print (os.path.abspath(filename)) ## /home/nick/dir/foo.txt\n",
        "    "
      ],
      "execution_count": 15,
      "outputs": [
        {
          "output_type": "stream",
          "name": "stdout",
          "text": [
            "/content/copyspecial/xyz__hello__.txt\n",
            "/content/copyspecial/copyspecial.py\n",
            "/content/copyspecial/zz__something__.jpg\n"
          ]
        }
      ]
    },
    {
      "cell_type": "code",
      "metadata": {
        "id": "nsoyi4rkFKHY"
      },
      "source": [
        "# copy file example using shutil.copy()\n",
        "import os\n",
        "import shutil\n",
        "\n",
        "src = '/content/copyspecial' ## path to source file\n",
        "dest = '/content/new_copyspecial'  ## path to target file\n",
        "\n"
      ],
      "execution_count": 21,
      "outputs": []
    },
    {
      "cell_type": "code",
      "metadata": {
        "id": "OE60n_QWTN4M"
      },
      "source": [
        "files = os.listdir(src)"
      ],
      "execution_count": 22,
      "outputs": []
    },
    {
      "cell_type": "code",
      "metadata": {
        "id": "lW6eOdBXS350"
      },
      "source": [
        "for file in files:\n",
        "    if os.path.isfile(file):\n",
        "        shutil.copy(file, dest) # second gotcha can be overwritten"
      ],
      "execution_count": 25,
      "outputs": []
    },
    {
      "cell_type": "code",
      "metadata": {
        "id": "LN5Gz72HUWJs"
      },
      "source": [
        "for file in files:\n",
        "    if os.path.isfile(file):\n",
        "        print(dest)\n",
        "        full_dest = os.path.join(dest, file)\n",
        "        print(full_dest)\n",
        "        print(\"\\n\")\n",
        "        shutil.move(file, full_dest)"
      ],
      "execution_count": 30,
      "outputs": []
    },
    {
      "cell_type": "code",
      "metadata": {
        "colab": {
          "base_uri": "https://localhost:8080/"
        },
        "id": "Qk2ie_vwUwCT",
        "outputId": "d24a6d2d-44dd-47a0-dda0-c30c2c339760"
      },
      "source": [
        "from zipfile import ZipFile\n",
        "import os\n",
        "\n",
        "def get_all_file_paths(directory):\n",
        "\n",
        " # initializing empty file paths list\n",
        " file_paths = []\n",
        "\n",
        " # crawling through directory and subdirectories\n",
        " for root, directories, files in os.walk(directory):\n",
        "  for filename in files:\n",
        "   # join the two strings in order to form the full filepath.\n",
        "   filepath = os.path.join(root, filename)\n",
        "   file_paths.append(filepath)\n",
        "\n",
        " # returning all file paths\n",
        " return file_paths\n",
        "\n",
        "def main():\n",
        " # path to folder which needs to be zipped\n",
        " directory = '/content/copyspecial'\n",
        "\n",
        " # calling function to get all file paths in the directory\n",
        " file_paths = get_all_file_paths(directory)\n",
        "\n",
        " # printing the list of all files to be zipped\n",
        " print('Following files will be zipped in this program:')\n",
        " for file_name in file_paths:\n",
        "  print(file_name)\n",
        "\n",
        " # writing files to a zipfile\n",
        " with ZipFile('myzipfile.zip','w') as zip:\n",
        "  # writing each file one by one\n",
        "  for file in file_paths:\n",
        "   zip.write(file)\n",
        "\n",
        " print('All files zipped successfully!')\n",
        "\n",
        "\n",
        "if __name__ == \"__main__\":\n",
        "    main()"
      ],
      "execution_count": 31,
      "outputs": [
        {
          "output_type": "stream",
          "name": "stdout",
          "text": [
            "Following files will be zipped in this program:\n",
            "All files zipped successfully!\n"
          ]
        }
      ]
    }
  ]
}